{
 "cells": [
  {
   "cell_type": "markdown",
   "metadata": {},
   "source": [
    "# Scale Out Performance Test"
   ]
  },
  {
   "cell_type": "code",
   "execution_count": 1,
   "metadata": {},
   "outputs": [],
   "source": [
    "import pandas as pd\n",
    "import numpy as np\n",
    "from datetime import datetime\n",
    "from datetime import timedelta\n",
    "from datetime import time\n",
    "%matplotlib inline"
   ]
  },
  {
   "cell_type": "code",
   "execution_count": 2,
   "metadata": {},
   "outputs": [],
   "source": [
    "#!pip install xlrd openpyxl"
   ]
  },
  {
   "cell_type": "markdown",
   "metadata": {},
   "source": [
    "### load"
   ]
  },
  {
   "cell_type": "code",
   "execution_count": 3,
   "metadata": {},
   "outputs": [],
   "source": [
    "df = pd.read_excel('scaleout.xlsx', sheet_name=u'sheet', index_col=None)"
   ]
  },
  {
   "cell_type": "markdown",
   "metadata": {},
   "source": [
    "### schema"
   ]
  },
  {
   "cell_type": "code",
   "execution_count": 4,
   "metadata": {
    "scrolled": false
   },
   "outputs": [
    {
     "name": "stdout",
     "output_type": "stream",
     "text": [
      "<class 'pandas.core.frame.DataFrame'>\n",
      "RangeIndex: 1620 entries, 0 to 1619\n",
      "Data columns (total 12 columns):\n",
      "#nodes          1620 non-null int64\n",
      "#executors      1620 non-null int64\n",
      "#no             1620 non-null int64\n",
      "arrow_job_id    1620 non-null object\n",
      "arrow_name      1620 non-null object\n",
      "pipeline        1620 non-null object\n",
      "stage           6 non-null object\n",
      "status          1620 non-null object\n",
      "start_time      1620 non-null datetime64[ns]\n",
      "elapsed_time    1620 non-null object\n",
      "end_time        1619 non-null datetime64[ns]\n",
      "except          2 non-null object\n",
      "dtypes: datetime64[ns](2), int64(3), object(7)\n",
      "memory usage: 151.9+ KB\n"
     ]
    }
   ],
   "source": [
    "df.info()"
   ]
  },
  {
   "cell_type": "markdown",
   "metadata": {},
   "source": [
    "### head"
   ]
  },
  {
   "cell_type": "code",
   "execution_count": 5,
   "metadata": {
    "scrolled": true
   },
   "outputs": [
    {
     "data": {
      "text/html": [
       "<div>\n",
       "<style scoped>\n",
       "    .dataframe tbody tr th:only-of-type {\n",
       "        vertical-align: middle;\n",
       "    }\n",
       "\n",
       "    .dataframe tbody tr th {\n",
       "        vertical-align: top;\n",
       "    }\n",
       "\n",
       "    .dataframe thead th {\n",
       "        text-align: right;\n",
       "    }\n",
       "</style>\n",
       "<table border=\"1\" class=\"dataframe\">\n",
       "  <thead>\n",
       "    <tr style=\"text-align: right;\">\n",
       "      <th></th>\n",
       "      <th>#nodes</th>\n",
       "      <th>#executors</th>\n",
       "      <th>#no</th>\n",
       "      <th>arrow_job_id</th>\n",
       "      <th>arrow_name</th>\n",
       "      <th>pipeline</th>\n",
       "      <th>stage</th>\n",
       "      <th>status</th>\n",
       "      <th>start_time</th>\n",
       "      <th>elapsed_time</th>\n",
       "      <th>end_time</th>\n",
       "      <th>except</th>\n",
       "    </tr>\n",
       "  </thead>\n",
       "  <tbody>\n",
       "    <tr>\n",
       "      <th>0</th>\n",
       "      <td>1</td>\n",
       "      <td>1</td>\n",
       "      <td>1</td>\n",
       "      <td>20190522175906-88803</td>\n",
       "      <td>app</td>\n",
       "      <td>app-task1-&gt;app-task2-&gt;app-task3-&gt;app-task4-&gt;ap...</td>\n",
       "      <td>NaN</td>\n",
       "      <td>DONE</td>\n",
       "      <td>2019-05-22 17:59:06</td>\n",
       "      <td>04:05:22</td>\n",
       "      <td>2019-05-22 22:04:28</td>\n",
       "      <td>NaN</td>\n",
       "    </tr>\n",
       "    <tr>\n",
       "      <th>1</th>\n",
       "      <td>1</td>\n",
       "      <td>1</td>\n",
       "      <td>1</td>\n",
       "      <td>20190522175905-23082</td>\n",
       "      <td>app</td>\n",
       "      <td>app-task1-&gt;app-task2-&gt;app-task3-&gt;app-task4-&gt;ap...</td>\n",
       "      <td>NaN</td>\n",
       "      <td>DONE</td>\n",
       "      <td>2019-05-22 17:59:05</td>\n",
       "      <td>04:03:18</td>\n",
       "      <td>2019-05-22 22:02:23</td>\n",
       "      <td>NaN</td>\n",
       "    </tr>\n",
       "    <tr>\n",
       "      <th>2</th>\n",
       "      <td>1</td>\n",
       "      <td>1</td>\n",
       "      <td>1</td>\n",
       "      <td>20190522175905-05312</td>\n",
       "      <td>app</td>\n",
       "      <td>app-task1-&gt;app-task2-&gt;app-task3-&gt;app-task4-&gt;ap...</td>\n",
       "      <td>NaN</td>\n",
       "      <td>DONE</td>\n",
       "      <td>2019-05-22 17:59:05</td>\n",
       "      <td>04:05:36</td>\n",
       "      <td>2019-05-22 22:04:41</td>\n",
       "      <td>NaN</td>\n",
       "    </tr>\n",
       "    <tr>\n",
       "      <th>3</th>\n",
       "      <td>1</td>\n",
       "      <td>1</td>\n",
       "      <td>1</td>\n",
       "      <td>20190522175904-22548</td>\n",
       "      <td>app</td>\n",
       "      <td>app-task1-&gt;app-task2-&gt;app-task3-&gt;app-task4-&gt;ap...</td>\n",
       "      <td>NaN</td>\n",
       "      <td>DONE</td>\n",
       "      <td>2019-05-22 17:59:04</td>\n",
       "      <td>04:01:22</td>\n",
       "      <td>2019-05-22 22:00:26</td>\n",
       "      <td>NaN</td>\n",
       "    </tr>\n",
       "    <tr>\n",
       "      <th>4</th>\n",
       "      <td>1</td>\n",
       "      <td>1</td>\n",
       "      <td>1</td>\n",
       "      <td>20190522175904-10087</td>\n",
       "      <td>app</td>\n",
       "      <td>app-task1-&gt;app-task2-&gt;app-task3-&gt;app-task4-&gt;ap...</td>\n",
       "      <td>NaN</td>\n",
       "      <td>DONE</td>\n",
       "      <td>2019-05-22 17:59:04</td>\n",
       "      <td>04:06:08</td>\n",
       "      <td>2019-05-22 22:05:12</td>\n",
       "      <td>NaN</td>\n",
       "    </tr>\n",
       "  </tbody>\n",
       "</table>\n",
       "</div>"
      ],
      "text/plain": [
       "   #nodes  #executors  #no          arrow_job_id arrow_name  \\\n",
       "0       1           1    1  20190522175906-88803        app   \n",
       "1       1           1    1  20190522175905-23082        app   \n",
       "2       1           1    1  20190522175905-05312        app   \n",
       "3       1           1    1  20190522175904-22548        app   \n",
       "4       1           1    1  20190522175904-10087        app   \n",
       "\n",
       "                                            pipeline stage status  \\\n",
       "0  app-task1->app-task2->app-task3->app-task4->ap...   NaN   DONE   \n",
       "1  app-task1->app-task2->app-task3->app-task4->ap...   NaN   DONE   \n",
       "2  app-task1->app-task2->app-task3->app-task4->ap...   NaN   DONE   \n",
       "3  app-task1->app-task2->app-task3->app-task4->ap...   NaN   DONE   \n",
       "4  app-task1->app-task2->app-task3->app-task4->ap...   NaN   DONE   \n",
       "\n",
       "           start_time elapsed_time            end_time except  \n",
       "0 2019-05-22 17:59:06     04:05:22 2019-05-22 22:04:28    NaN  \n",
       "1 2019-05-22 17:59:05     04:03:18 2019-05-22 22:02:23    NaN  \n",
       "2 2019-05-22 17:59:05     04:05:36 2019-05-22 22:04:41    NaN  \n",
       "3 2019-05-22 17:59:04     04:01:22 2019-05-22 22:00:26    NaN  \n",
       "4 2019-05-22 17:59:04     04:06:08 2019-05-22 22:05:12    NaN  "
      ]
     },
     "execution_count": 5,
     "metadata": {},
     "output_type": "execute_result"
    }
   ],
   "source": [
    "df.head()"
   ]
  },
  {
   "cell_type": "markdown",
   "metadata": {},
   "source": [
    "### preprocess"
   ]
  },
  {
   "cell_type": "code",
   "execution_count": 6,
   "metadata": {},
   "outputs": [],
   "source": [
    "df = df[df['status'] == 'DONE']\n",
    "df = df[df['except'].isna()]"
   ]
  },
  {
   "cell_type": "code",
   "execution_count": 7,
   "metadata": {
    "scrolled": true
   },
   "outputs": [
    {
     "data": {
      "text/html": [
       "<div>\n",
       "<style scoped>\n",
       "    .dataframe tbody tr th:only-of-type {\n",
       "        vertical-align: middle;\n",
       "    }\n",
       "\n",
       "    .dataframe tbody tr th {\n",
       "        vertical-align: top;\n",
       "    }\n",
       "\n",
       "    .dataframe thead th {\n",
       "        text-align: right;\n",
       "    }\n",
       "</style>\n",
       "<table border=\"1\" class=\"dataframe\">\n",
       "  <thead>\n",
       "    <tr style=\"text-align: right;\">\n",
       "      <th></th>\n",
       "      <th>#nodes</th>\n",
       "      <th>#executors</th>\n",
       "      <th>#no</th>\n",
       "      <th>arrow_job_id</th>\n",
       "      <th>arrow_name</th>\n",
       "      <th>pipeline</th>\n",
       "      <th>stage</th>\n",
       "      <th>status</th>\n",
       "      <th>start_time</th>\n",
       "      <th>elapsed_time</th>\n",
       "      <th>end_time</th>\n",
       "      <th>except</th>\n",
       "    </tr>\n",
       "  </thead>\n",
       "  <tbody>\n",
       "    <tr>\n",
       "      <th>0</th>\n",
       "      <td>1</td>\n",
       "      <td>1</td>\n",
       "      <td>1</td>\n",
       "      <td>20190522175906-88803</td>\n",
       "      <td>app</td>\n",
       "      <td>app-task1-&gt;app-task2-&gt;app-task3-&gt;app-task4-&gt;ap...</td>\n",
       "      <td>NaN</td>\n",
       "      <td>DONE</td>\n",
       "      <td>2019-05-22 17:59:06</td>\n",
       "      <td>14722</td>\n",
       "      <td>2019-05-22 22:04:28</td>\n",
       "      <td>NaN</td>\n",
       "    </tr>\n",
       "    <tr>\n",
       "      <th>1</th>\n",
       "      <td>1</td>\n",
       "      <td>1</td>\n",
       "      <td>1</td>\n",
       "      <td>20190522175905-23082</td>\n",
       "      <td>app</td>\n",
       "      <td>app-task1-&gt;app-task2-&gt;app-task3-&gt;app-task4-&gt;ap...</td>\n",
       "      <td>NaN</td>\n",
       "      <td>DONE</td>\n",
       "      <td>2019-05-22 17:59:05</td>\n",
       "      <td>14598</td>\n",
       "      <td>2019-05-22 22:02:23</td>\n",
       "      <td>NaN</td>\n",
       "    </tr>\n",
       "    <tr>\n",
       "      <th>2</th>\n",
       "      <td>1</td>\n",
       "      <td>1</td>\n",
       "      <td>1</td>\n",
       "      <td>20190522175905-05312</td>\n",
       "      <td>app</td>\n",
       "      <td>app-task1-&gt;app-task2-&gt;app-task3-&gt;app-task4-&gt;ap...</td>\n",
       "      <td>NaN</td>\n",
       "      <td>DONE</td>\n",
       "      <td>2019-05-22 17:59:05</td>\n",
       "      <td>14736</td>\n",
       "      <td>2019-05-22 22:04:41</td>\n",
       "      <td>NaN</td>\n",
       "    </tr>\n",
       "    <tr>\n",
       "      <th>3</th>\n",
       "      <td>1</td>\n",
       "      <td>1</td>\n",
       "      <td>1</td>\n",
       "      <td>20190522175904-22548</td>\n",
       "      <td>app</td>\n",
       "      <td>app-task1-&gt;app-task2-&gt;app-task3-&gt;app-task4-&gt;ap...</td>\n",
       "      <td>NaN</td>\n",
       "      <td>DONE</td>\n",
       "      <td>2019-05-22 17:59:04</td>\n",
       "      <td>14482</td>\n",
       "      <td>2019-05-22 22:00:26</td>\n",
       "      <td>NaN</td>\n",
       "    </tr>\n",
       "    <tr>\n",
       "      <th>4</th>\n",
       "      <td>1</td>\n",
       "      <td>1</td>\n",
       "      <td>1</td>\n",
       "      <td>20190522175904-10087</td>\n",
       "      <td>app</td>\n",
       "      <td>app-task1-&gt;app-task2-&gt;app-task3-&gt;app-task4-&gt;ap...</td>\n",
       "      <td>NaN</td>\n",
       "      <td>DONE</td>\n",
       "      <td>2019-05-22 17:59:04</td>\n",
       "      <td>14768</td>\n",
       "      <td>2019-05-22 22:05:12</td>\n",
       "      <td>NaN</td>\n",
       "    </tr>\n",
       "  </tbody>\n",
       "</table>\n",
       "</div>"
      ],
      "text/plain": [
       "   #nodes  #executors  #no          arrow_job_id arrow_name  \\\n",
       "0       1           1    1  20190522175906-88803        app   \n",
       "1       1           1    1  20190522175905-23082        app   \n",
       "2       1           1    1  20190522175905-05312        app   \n",
       "3       1           1    1  20190522175904-22548        app   \n",
       "4       1           1    1  20190522175904-10087        app   \n",
       "\n",
       "                                            pipeline stage status  \\\n",
       "0  app-task1->app-task2->app-task3->app-task4->ap...   NaN   DONE   \n",
       "1  app-task1->app-task2->app-task3->app-task4->ap...   NaN   DONE   \n",
       "2  app-task1->app-task2->app-task3->app-task4->ap...   NaN   DONE   \n",
       "3  app-task1->app-task2->app-task3->app-task4->ap...   NaN   DONE   \n",
       "4  app-task1->app-task2->app-task3->app-task4->ap...   NaN   DONE   \n",
       "\n",
       "           start_time  elapsed_time            end_time except  \n",
       "0 2019-05-22 17:59:06         14722 2019-05-22 22:04:28    NaN  \n",
       "1 2019-05-22 17:59:05         14598 2019-05-22 22:02:23    NaN  \n",
       "2 2019-05-22 17:59:05         14736 2019-05-22 22:04:41    NaN  \n",
       "3 2019-05-22 17:59:04         14482 2019-05-22 22:00:26    NaN  \n",
       "4 2019-05-22 17:59:04         14768 2019-05-22 22:05:12    NaN  "
      ]
     },
     "execution_count": 7,
     "metadata": {},
     "output_type": "execute_result"
    }
   ],
   "source": [
    "df['elapsed_time'] = df['elapsed_time'].map(lambda t: (t.hour * 60 + t.minute) * 60 + t.second)\n",
    "df.head()"
   ]
  },
  {
   "cell_type": "markdown",
   "metadata": {},
   "source": [
    "### box plot"
   ]
  },
  {
   "cell_type": "code",
   "execution_count": 8,
   "metadata": {
    "scrolled": false
   },
   "outputs": [
    {
     "data": {
      "text/plain": [
       "<matplotlib.axes._subplots.AxesSubplot at 0x7fb292cdfa50>"
      ]
     },
     "execution_count": 8,
     "metadata": {},
     "output_type": "execute_result"
    },
    {
     "data": {
      "image/png": "[encoded data removed]",
      "text/plain": [
       "<Figure size 1440x1440 with 1 Axes>"
      ]
     },
     "metadata": {
      "needs_background": "light"
     },
     "output_type": "display_data"
    }
   ],
   "source": [
    "df.boxplot(by=['#nodes', '#executors', '#no'], column='elapsed_time', figsize=(20,20), rot=45, whis=1.3)"
   ]
  },
  {
   "cell_type": "markdown",
   "metadata": {},
   "source": [
    "### agg by #nodes, #executors, #no"
   ]
  },
  {
   "cell_type": "code",
   "execution_count": 9,
   "metadata": {
    "scrolled": false
   },
   "outputs": [],
   "source": [
    "group = df.groupby(['#nodes', '#executors', '#no'])\n",
    "df2 = pd.DataFrame({'start_time': group['start_time'].apply(np.min), 'end_time': group['end_time'].apply(np.max)}, columns=['start_time', 'end_time'])\n",
    "df2['elapsed_time'] = df2['end_time'] - df2['start_time']\n",
    "df2['elapsed_time'] = df2['elapsed_time'].map(str)\n",
    "df2['elapsed_time'] = df2['elapsed_time'].map(lambda s: s.replace('0 days ', ''))"
   ]
  },
  {
   "cell_type": "code",
   "execution_count": 10,
   "metadata": {
    "scrolled": true
   },
   "outputs": [
    {
     "name": "stdout",
     "output_type": "stream",
     "text": [
      "<class 'pandas.core.frame.DataFrame'>\n",
      "MultiIndex: 18 entries, (1, 1, 1) to (8, 15, 5)\n",
      "Data columns (total 3 columns):\n",
      "start_time      18 non-null datetime64[ns]\n",
      "end_time        18 non-null datetime64[ns]\n",
      "elapsed_time    18 non-null object\n",
      "dtypes: datetime64[ns](2), object(1)\n",
      "memory usage: 736.0+ bytes\n"
     ]
    }
   ],
   "source": [
    "df2.info()"
   ]
  },
  {
   "cell_type": "code",
   "execution_count": 11,
   "metadata": {},
   "outputs": [
    {
     "data": {
      "text/html": [
       "<div>\n",
       "<style scoped>\n",
       "    .dataframe tbody tr th:only-of-type {\n",
       "        vertical-align: middle;\n",
       "    }\n",
       "\n",
       "    .dataframe tbody tr th {\n",
       "        vertical-align: top;\n",
       "    }\n",
       "\n",
       "    .dataframe thead th {\n",
       "        text-align: right;\n",
       "    }\n",
       "</style>\n",
       "<table border=\"1\" class=\"dataframe\">\n",
       "  <thead>\n",
       "    <tr style=\"text-align: right;\">\n",
       "      <th></th>\n",
       "      <th></th>\n",
       "      <th></th>\n",
       "      <th>start_time</th>\n",
       "      <th>end_time</th>\n",
       "      <th>elapsed_time</th>\n",
       "    </tr>\n",
       "    <tr>\n",
       "      <th>#nodes</th>\n",
       "      <th>#executors</th>\n",
       "      <th>#no</th>\n",
       "      <th></th>\n",
       "      <th></th>\n",
       "      <th></th>\n",
       "    </tr>\n",
       "  </thead>\n",
       "  <tbody>\n",
       "    <tr>\n",
       "      <th>1</th>\n",
       "      <th>1</th>\n",
       "      <th>1</th>\n",
       "      <td>2019-05-22 17:58:27</td>\n",
       "      <td>2019-05-22 22:05:38</td>\n",
       "      <td>04:07:11</td>\n",
       "    </tr>\n",
       "    <tr>\n",
       "      <th rowspan=\"5\" valign=\"top\">3</th>\n",
       "      <th rowspan=\"5\" valign=\"top\">5</th>\n",
       "      <th>1</th>\n",
       "      <td>2019-05-23 12:04:16</td>\n",
       "      <td>2019-05-23 13:33:40</td>\n",
       "      <td>01:29:24</td>\n",
       "    </tr>\n",
       "    <tr>\n",
       "      <th>2</th>\n",
       "      <td>2019-05-23 14:12:24</td>\n",
       "      <td>2019-05-23 15:42:05</td>\n",
       "      <td>01:29:41</td>\n",
       "    </tr>\n",
       "    <tr>\n",
       "      <th>3</th>\n",
       "      <td>2019-05-23 15:52:05</td>\n",
       "      <td>2019-05-23 17:19:30</td>\n",
       "      <td>01:27:25</td>\n",
       "    </tr>\n",
       "    <tr>\n",
       "      <th>4</th>\n",
       "      <td>2019-05-23 17:37:00</td>\n",
       "      <td>2019-05-23 19:06:17</td>\n",
       "      <td>01:29:17</td>\n",
       "    </tr>\n",
       "    <tr>\n",
       "      <th>5</th>\n",
       "      <td>2019-05-24 08:56:51</td>\n",
       "      <td>2019-05-24 10:25:41</td>\n",
       "      <td>01:28:50</td>\n",
       "    </tr>\n",
       "    <tr>\n",
       "      <th rowspan=\"2\" valign=\"top\">5</th>\n",
       "      <th rowspan=\"2\" valign=\"top\">9</th>\n",
       "      <th>1</th>\n",
       "      <td>2019-05-24 12:10:14</td>\n",
       "      <td>2019-05-24 13:15:01</td>\n",
       "      <td>01:04:47</td>\n",
       "    </tr>\n",
       "    <tr>\n",
       "      <th>2</th>\n",
       "      <td>2019-05-24 14:34:17</td>\n",
       "      <td>2019-05-24 15:38:04</td>\n",
       "      <td>01:03:47</td>\n",
       "    </tr>\n",
       "    <tr>\n",
       "      <th rowspan=\"5\" valign=\"top\">7</th>\n",
       "      <th rowspan=\"5\" valign=\"top\">13</th>\n",
       "      <th>1</th>\n",
       "      <td>2019-05-27 16:08:37</td>\n",
       "      <td>2019-05-27 17:05:34</td>\n",
       "      <td>00:56:57</td>\n",
       "    </tr>\n",
       "    <tr>\n",
       "      <th>2</th>\n",
       "      <td>2019-05-27 20:38:11</td>\n",
       "      <td>2019-05-27 21:34:32</td>\n",
       "      <td>00:56:21</td>\n",
       "    </tr>\n",
       "    <tr>\n",
       "      <th>3</th>\n",
       "      <td>2019-05-27 22:08:35</td>\n",
       "      <td>2019-05-27 23:05:17</td>\n",
       "      <td>00:56:42</td>\n",
       "    </tr>\n",
       "    <tr>\n",
       "      <th>4</th>\n",
       "      <td>2019-05-28 01:03:18</td>\n",
       "      <td>2019-05-28 02:03:57</td>\n",
       "      <td>01:00:39</td>\n",
       "    </tr>\n",
       "    <tr>\n",
       "      <th>5</th>\n",
       "      <td>2019-05-28 06:22:58</td>\n",
       "      <td>2019-05-28 07:18:40</td>\n",
       "      <td>00:55:42</td>\n",
       "    </tr>\n",
       "    <tr>\n",
       "      <th rowspan=\"5\" valign=\"top\">8</th>\n",
       "      <th rowspan=\"5\" valign=\"top\">15</th>\n",
       "      <th>1</th>\n",
       "      <td>2019-05-29 03:53:22</td>\n",
       "      <td>2019-05-29 04:47:54</td>\n",
       "      <td>00:54:32</td>\n",
       "    </tr>\n",
       "    <tr>\n",
       "      <th>2</th>\n",
       "      <td>2019-05-29 08:03:32</td>\n",
       "      <td>2019-05-29 08:56:35</td>\n",
       "      <td>00:53:03</td>\n",
       "    </tr>\n",
       "    <tr>\n",
       "      <th>3</th>\n",
       "      <td>2019-05-29 09:11:54</td>\n",
       "      <td>2019-05-29 10:06:38</td>\n",
       "      <td>00:54:44</td>\n",
       "    </tr>\n",
       "    <tr>\n",
       "      <th>4</th>\n",
       "      <td>2019-05-29 17:13:49</td>\n",
       "      <td>2019-05-29 18:07:49</td>\n",
       "      <td>00:54:00</td>\n",
       "    </tr>\n",
       "    <tr>\n",
       "      <th>5</th>\n",
       "      <td>2019-05-29 21:13:33</td>\n",
       "      <td>2019-05-29 22:10:03</td>\n",
       "      <td>00:56:30</td>\n",
       "    </tr>\n",
       "  </tbody>\n",
       "</table>\n",
       "</div>"
      ],
      "text/plain": [
       "                               start_time            end_time elapsed_time\n",
       "#nodes #executors #no                                                     \n",
       "1      1          1   2019-05-22 17:58:27 2019-05-22 22:05:38     04:07:11\n",
       "3      5          1   2019-05-23 12:04:16 2019-05-23 13:33:40     01:29:24\n",
       "                  2   2019-05-23 14:12:24 2019-05-23 15:42:05     01:29:41\n",
       "                  3   2019-05-23 15:52:05 2019-05-23 17:19:30     01:27:25\n",
       "                  4   2019-05-23 17:37:00 2019-05-23 19:06:17     01:29:17\n",
       "                  5   2019-05-24 08:56:51 2019-05-24 10:25:41     01:28:50\n",
       "5      9          1   2019-05-24 12:10:14 2019-05-24 13:15:01     01:04:47\n",
       "                  2   2019-05-24 14:34:17 2019-05-24 15:38:04     01:03:47\n",
       "7      13         1   2019-05-27 16:08:37 2019-05-27 17:05:34     00:56:57\n",
       "                  2   2019-05-27 20:38:11 2019-05-27 21:34:32     00:56:21\n",
       "                  3   2019-05-27 22:08:35 2019-05-27 23:05:17     00:56:42\n",
       "                  4   2019-05-28 01:03:18 2019-05-28 02:03:57     01:00:39\n",
       "                  5   2019-05-28 06:22:58 2019-05-28 07:18:40     00:55:42\n",
       "8      15         1   2019-05-29 03:53:22 2019-05-29 04:47:54     00:54:32\n",
       "                  2   2019-05-29 08:03:32 2019-05-29 08:56:35     00:53:03\n",
       "                  3   2019-05-29 09:11:54 2019-05-29 10:06:38     00:54:44\n",
       "                  4   2019-05-29 17:13:49 2019-05-29 18:07:49     00:54:00\n",
       "                  5   2019-05-29 21:13:33 2019-05-29 22:10:03     00:56:30"
      ]
     },
     "execution_count": 11,
     "metadata": {},
     "output_type": "execute_result"
    }
   ],
   "source": [
    "df2"
   ]
  },
  {
   "cell_type": "code",
   "execution_count": 12,
   "metadata": {},
   "outputs": [],
   "source": [
    "#with pd.ExcelWriter('scaleout.xlsx', mode='a') as writer:\n",
    "#    df2.to_excel(writer, sheet_name='test')"
   ]
  },
  {
   "cell_type": "markdown",
   "metadata": {},
   "source": [
    "### agg by #nodes, #executors"
   ]
  },
  {
   "cell_type": "code",
   "execution_count": 13,
   "metadata": {
    "scrolled": false
   },
   "outputs": [],
   "source": [
    "def convert(x):\n",
    "    try:\n",
    "        t = datetime.strptime(x, '%H:%M:%S')\n",
    "        d = timedelta(hours=t.hour, minutes=t.minute, seconds=t.second)\n",
    "    except:\n",
    "        return None\n",
    "    return d.seconds\n",
    "df2['elapsed_time'] = df2['elapsed_time'].map(convert)\n",
    "\n",
    "group = df2.groupby(['#nodes', '#executors'])\n",
    "df3 = pd.DataFrame({'elapsed_time': group['elapsed_time'].apply(np.average)}, columns=['elapsed_time'])"
   ]
  },
  {
   "cell_type": "code",
   "execution_count": 14,
   "metadata": {
    "scrolled": true
   },
   "outputs": [
    {
     "data": {
      "text/html": [
       "<div>\n",
       "<style scoped>\n",
       "    .dataframe tbody tr th:only-of-type {\n",
       "        vertical-align: middle;\n",
       "    }\n",
       "\n",
       "    .dataframe tbody tr th {\n",
       "        vertical-align: top;\n",
       "    }\n",
       "\n",
       "    .dataframe thead th {\n",
       "        text-align: right;\n",
       "    }\n",
       "</style>\n",
       "<table border=\"1\" class=\"dataframe\">\n",
       "  <thead>\n",
       "    <tr style=\"text-align: right;\">\n",
       "      <th></th>\n",
       "      <th></th>\n",
       "      <th>elapsed_time</th>\n",
       "    </tr>\n",
       "    <tr>\n",
       "      <th>#nodes</th>\n",
       "      <th>#executors</th>\n",
       "      <th></th>\n",
       "    </tr>\n",
       "  </thead>\n",
       "  <tbody>\n",
       "    <tr>\n",
       "      <th>1</th>\n",
       "      <th>1</th>\n",
       "      <td>14831.0</td>\n",
       "    </tr>\n",
       "    <tr>\n",
       "      <th>3</th>\n",
       "      <th>5</th>\n",
       "      <td>5335.4</td>\n",
       "    </tr>\n",
       "    <tr>\n",
       "      <th>5</th>\n",
       "      <th>9</th>\n",
       "      <td>3857.0</td>\n",
       "    </tr>\n",
       "    <tr>\n",
       "      <th>7</th>\n",
       "      <th>13</th>\n",
       "      <td>3436.2</td>\n",
       "    </tr>\n",
       "    <tr>\n",
       "      <th>8</th>\n",
       "      <th>15</th>\n",
       "      <td>3273.8</td>\n",
       "    </tr>\n",
       "  </tbody>\n",
       "</table>\n",
       "</div>"
      ],
      "text/plain": [
       "                   elapsed_time\n",
       "#nodes #executors              \n",
       "1      1                14831.0\n",
       "3      5                 5335.4\n",
       "5      9                 3857.0\n",
       "7      13                3436.2\n",
       "8      15                3273.8"
      ]
     },
     "execution_count": 14,
     "metadata": {},
     "output_type": "execute_result"
    }
   ],
   "source": [
    "df3"
   ]
  },
  {
   "cell_type": "markdown",
   "metadata": {},
   "source": [
    "### line plot (elapsed_time)"
   ]
  },
  {
   "cell_type": "code",
   "execution_count": 15,
   "metadata": {
    "scrolled": false
   },
   "outputs": [
    {
     "data": {
      "text/plain": [
       "<matplotlib.axes._subplots.AxesSubplot at 0x7fb292818350>"
      ]
     },
     "execution_count": 15,
     "metadata": {},
     "output_type": "execute_result"
    },
    {
     "data": {
      "image/png": "[encoded data removed]",
      "text/plain": [
       "<Figure size 432x288 with 1 Axes>"
      ]
     },
     "metadata": {
      "needs_background": "light"
     },
     "output_type": "display_data"
    },
    {
     "data": {
      "image/png": "[encoded data removed]",
      "text/plain": [
       "<Figure size 432x288 with 1 Axes>"
      ]
     },
     "metadata": {
      "needs_background": "light"
     },
     "output_type": "display_data"
    }
   ],
   "source": [
    "df3.reset_index(level='#nodes', drop=True).plot(grid=True)\n",
    "df3.reset_index(level='#executors', drop=True).plot(grid=True)"
   ]
  },
  {
   "cell_type": "markdown",
   "metadata": {},
   "source": [
    "### line plot (throughput per hour)"
   ]
  },
  {
   "cell_type": "code",
   "execution_count": 16,
   "metadata": {},
   "outputs": [],
   "source": [
    "df4 = 90 / ( df3 / 3600.0 )\n",
    "df4 = df4.rename(columns={\"elapsed_time\": \"throughput per hour\"})"
   ]
  },
  {
   "cell_type": "code",
   "execution_count": 17,
   "metadata": {},
   "outputs": [
    {
     "data": {
      "text/html": [
       "<div>\n",
       "<style scoped>\n",
       "    .dataframe tbody tr th:only-of-type {\n",
       "        vertical-align: middle;\n",
       "    }\n",
       "\n",
       "    .dataframe tbody tr th {\n",
       "        vertical-align: top;\n",
       "    }\n",
       "\n",
       "    .dataframe thead th {\n",
       "        text-align: right;\n",
       "    }\n",
       "</style>\n",
       "<table border=\"1\" class=\"dataframe\">\n",
       "  <thead>\n",
       "    <tr style=\"text-align: right;\">\n",
       "      <th></th>\n",
       "      <th></th>\n",
       "      <th>throughput per hour</th>\n",
       "    </tr>\n",
       "    <tr>\n",
       "      <th>#nodes</th>\n",
       "      <th>#executors</th>\n",
       "      <th></th>\n",
       "    </tr>\n",
       "  </thead>\n",
       "  <tbody>\n",
       "    <tr>\n",
       "      <th>1</th>\n",
       "      <th>1</th>\n",
       "      <td>21.846133</td>\n",
       "    </tr>\n",
       "    <tr>\n",
       "      <th>3</th>\n",
       "      <th>5</th>\n",
       "      <td>60.726468</td>\n",
       "    </tr>\n",
       "    <tr>\n",
       "      <th>5</th>\n",
       "      <th>9</th>\n",
       "      <td>84.003111</td>\n",
       "    </tr>\n",
       "    <tr>\n",
       "      <th>7</th>\n",
       "      <th>13</th>\n",
       "      <td>94.290204</td>\n",
       "    </tr>\n",
       "    <tr>\n",
       "      <th>8</th>\n",
       "      <th>15</th>\n",
       "      <td>98.967561</td>\n",
       "    </tr>\n",
       "  </tbody>\n",
       "</table>\n",
       "</div>"
      ],
      "text/plain": [
       "                   throughput per hour\n",
       "#nodes #executors                     \n",
       "1      1                     21.846133\n",
       "3      5                     60.726468\n",
       "5      9                     84.003111\n",
       "7      13                    94.290204\n",
       "8      15                    98.967561"
      ]
     },
     "execution_count": 17,
     "metadata": {},
     "output_type": "execute_result"
    }
   ],
   "source": [
    "df4"
   ]
  },
  {
   "cell_type": "code",
   "execution_count": 18,
   "metadata": {
    "scrolled": false
   },
   "outputs": [
    {
     "data": {
      "text/plain": [
       "<matplotlib.axes._subplots.AxesSubplot at 0x7fb29271f690>"
      ]
     },
     "execution_count": 18,
     "metadata": {},
     "output_type": "execute_result"
    },
    {
     "data": {
      "image/png": "[encoded data removed]",
      "text/plain": [
       "<Figure size 432x288 with 1 Axes>"
      ]
     },
     "metadata": {
      "needs_background": "light"
     },
     "output_type": "display_data"
    },
    {
     "data": {
      "image/png": "[encoded data removed]",
      "text/plain": [
       "<Figure size 432x288 with 1 Axes>"
      ]
     },
     "metadata": {
      "needs_background": "light"
     },
     "output_type": "display_data"
    }
   ],
   "source": [
    "df4.reset_index(level='#nodes', drop=True).plot(grid=True)\n",
    "df4.reset_index(level='#executors', drop=True).plot(grid=True)"
   ]
  }
 ],
 "metadata": {
  "kernelspec": {
   "display_name": "Python 2",
   "language": "python",
   "name": "python2"
  },
  "language_info": {
   "codemirror_mode": {
    "name": "ipython",
    "version": 2
   },
   "file_extension": ".py",
   "mimetype": "text/x-python",
   "name": "python",
   "nbconvert_exporter": "python",
   "pygments_lexer": "ipython2",
   "version": "2.7.16"
  }
 },
 "nbformat": 4,
 "nbformat_minor": 2
}
